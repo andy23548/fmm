{
 "cells": [
  {
   "cell_type": "code",
   "execution_count": 1,
   "metadata": {},
   "outputs": [],
   "source": [
    "from fmm import H3MM,hexs2wkt"
   ]
  },
  {
   "cell_type": "markdown",
   "metadata": {},
   "source": [
    "### Match to hexagon"
   ]
  },
  {
   "cell_type": "code",
   "execution_count": 2,
   "metadata": {},
   "outputs": [],
   "source": [
    "from fmm import H3MM,hexs2wkt\n",
    "from shapely.geometry import LineString,shape, mapping\n",
    "import json\n",
    "from ipyleaflet import GeoJSON\n",
    "from shapely.wkt import dumps, loads\n",
    "def match_geojson_hex(traj, hex_level, interpolate):\n",
    "    traj_wkt = shape(traj[\"geometry\"]).wkt\n",
    "    result = H3MM.match_wkt(traj_wkt, hex_level, interpolate)\n",
    "    hex_wkt = hexs2wkt(result.hexs)\n",
    "    return GeoJSON(name=\"Hex\",\n",
    "                      data=mapping(loads(hex_wkt)), \n",
    "                       style = {\n",
    "                           'fillColor':'green',\n",
    "                           'opacity':1.0,\n",
    "                           'fillOpacity': 0.8,\n",
    "                           'color': 'white'\n",
    "    })\n",
    "def traj_geojson_layer(traj):\n",
    "    return GeoJSON(name=\"Traj\",\n",
    "                      data=traj, \n",
    "                       style = {\n",
    "                           'fillColor':'orange',\n",
    "                           'opacity':1,\n",
    "                           'weight':10\n",
    "    })"
   ]
  },
  {
   "cell_type": "code",
   "execution_count": 3,
   "metadata": {
    "scrolled": false
   },
   "outputs": [
    {
     "data": {
      "application/vnd.jupyter.widget-view+json": {
       "model_id": "bf833ed824cd4d3fb149a3cb0cd94f9d",
       "version_major": 2,
       "version_minor": 0
      },
      "text/plain": [
       "TWFwKGNlbnRlcj1bNTkuMzMyNTgsIDE4LjA2NDldLCBjb250cm9scz0oWm9vbUNvbnRyb2wob3B0aW9ucz1bdSdwb3NpdGlvbicsIHUnem9vbV9pbl90ZXh0JywgdSd6b29tX2luX3RpdGxlJyzigKY=\n"
      ]
     },
     "metadata": {},
     "output_type": "display_data"
    }
   ],
   "source": [
    "from ipyleaflet import Map, basemaps, WidgetControl, DrawControl\n",
    "from ipywidgets import IntSlider, ColorPicker, jslink, Checkbox, Button, Layout\n",
    "\n",
    "m = Map(center=(59.33258,18.0649), zoom=12, \n",
    "        basemap=basemaps.OpenStreetMap.Mapnik)\n",
    "\n",
    "# zoom_slider = IntSlider(description='Zoom level:', min=0, max=15, value=14)\n",
    "# jslink((zoom_slider, 'value'), (m, 'zoom'))\n",
    "# widget_control1 = WidgetControl(widget=zoom_slider, position='topright')\n",
    "# m.add_control(widget_control1)\n",
    "\n",
    "h_slider = IntSlider(description='H:', min=7, max=9, value=7)\n",
    "h_widget_control = WidgetControl(widget=h_slider, position='topright')\n",
    "m.add_control(h_widget_control)\n",
    "\n",
    "interpolate_box = Checkbox(\n",
    "    value=True,\n",
    "    description='Interpolate',\n",
    "    disabled=False,\n",
    "    indent=True\n",
    ")\n",
    "\n",
    "interpolate_widget_control = WidgetControl(widget=interpolate_box, position='topright')\n",
    "m.add_control(interpolate_widget_control)\n",
    "\n",
    "draw_control = DrawControl(circlemarker={}, polygon={}, edit=False,\n",
    "    remove=False)\n",
    "draw_control.polyline =  {\n",
    "    \"shapeOptions\": {\n",
    "        \"color\": \"#fca45d\",\n",
    "        \"weight\": 6,\n",
    "        \"opacity\": 1\n",
    "    }\n",
    "}\n",
    "\n",
    "m.add_control(draw_control)\n",
    "\n",
    "# Define event listeners\n",
    "\n",
    "clear_map_btn = Button(\n",
    "    description='',\n",
    "    icon = 'fa-trash',\n",
    "    layout = Layout(width = '28px',padding='0px')\n",
    ")\n",
    "\n",
    "clear_map_btn_control = WidgetControl(widget=clear_map_btn, position='topleft',max_width=32)\n",
    "m.add_control(clear_map_btn_control)\n",
    "\n",
    "hex_layer = None\n",
    "traj_layer = None\n",
    "\n",
    "def clear_map():\n",
    "    global traj_layer, hex_layer\n",
    "    if (hex_layer!=None):\n",
    "        m.remove_layer(hex_layer) \n",
    "        hex_layer = None\n",
    "    if (traj_layer!=None):\n",
    "        m.remove_layer(traj_layer) \n",
    "        traj_layer = None\n",
    "\n",
    "def update_map(data):\n",
    "    global traj_layer, hex_layer\n",
    "    if data==None:\n",
    "        if traj_layer!=None:\n",
    "            m.remove_layer(traj_layer)\n",
    "            if (hex_layer!=None):\n",
    "                m.remove_layer(hex_layer) \n",
    "                hex_layer = None\n",
    "            temp_hex_layer = match_geojson_hex(traj_layer.data,\n",
    "                h_slider.value,interpolate_box.value)\n",
    "            m.add_layer(temp_hex_layer)\n",
    "            hex_layer = temp_hex_layer\n",
    "            m.add_layer(traj_layer)\n",
    "    else:\n",
    "        temp_hex_layer = match_geojson_hex(data,h_slider.value,interpolate_box.value)\n",
    "        temp_traj_layer = traj_geojson_layer(data)\n",
    "        if (hex_layer!=None):\n",
    "            m.remove_layer(hex_layer) \n",
    "            hex_layer = None\n",
    "        if (traj_layer!=None):\n",
    "            m.remove_layer(traj_layer)     \n",
    "            traj_layer = None\n",
    "        m.add_layer(temp_hex_layer)\n",
    "        m.add_layer(temp_traj_layer)\n",
    "        hex_layer = temp_hex_layer\n",
    "        traj_layer = temp_traj_layer\n",
    "\n",
    "def on_button_clicked(b):\n",
    "    clear_map()\n",
    "    \n",
    "clear_map_btn.on_click(on_button_clicked)\n",
    "\n",
    "def on_value_change(change):\n",
    "    update_map(None)\n",
    "\n",
    "h_slider.observe(on_value_change, names='value')\n",
    "interpolate_box.observe(on_value_change, names='value')\n",
    "\n",
    "def handle_draw(target, action, geo_json):\n",
    "    if (action==\"deleted\"):\n",
    "        m.remove_layer(hex_layer)\n",
    "        m.remove_layer(traj_layer)\n",
    "        hex_layer = None\n",
    "        traj_layer = None\n",
    "    if (action==\"created\"):\n",
    "        draw_control.clear()\n",
    "        update_map(geo_json)\n",
    "\n",
    "draw_control.on_draw(handle_draw)\n",
    "\n",
    "m.layout.height = '540px'\n",
    "m"
   ]
  },
  {
   "cell_type": "markdown",
   "metadata": {},
   "source": [
    "### Match a GeoJSON object"
   ]
  },
  {
   "cell_type": "code",
   "execution_count": 6,
   "metadata": {},
   "outputs": [],
   "source": [
    "example_geojson = {u'geometry': {u'type': u'LineString', u'coordinates': [[17.995665, 59.323298], [18.057295, 59.320944], [18.075285, 59.354437], [18.125415, 59.326594]]}, u'type': u'Feature', u'properties': {u'style': {u'opacity': 1, u'weight': 6, u'color': u'#fca45d', u'stroke': True, u'clickable': True, u'fill': False}}}"
   ]
  },
  {
   "cell_type": "code",
   "execution_count": 7,
   "metadata": {},
   "outputs": [],
   "source": [
    "clear_map()\n",
    "update_map(example_geojson)"
   ]
  },
  {
   "cell_type": "code",
   "execution_count": null,
   "metadata": {},
   "outputs": [],
   "source": []
  }
 ],
 "metadata": {
  "kernelspec": {
   "display_name": "Python 2",
   "language": "python",
   "name": "python2"
  },
  "language_info": {
   "codemirror_mode": {
    "name": "ipython",
    "version": 2
   },
   "file_extension": ".py",
   "mimetype": "text/x-python",
   "name": "python",
   "nbconvert_exporter": "python",
   "pygments_lexer": "ipython2",
   "version": "2.7.16"
  },
  "toc": {
   "base_numbering": 1,
   "nav_menu": {},
   "number_sections": true,
   "sideBar": true,
   "skip_h1_title": false,
   "title_cell": "Table of Contents",
   "title_sidebar": "Contents",
   "toc_cell": false,
   "toc_position": {
    "height": "calc(100% - 180px)",
    "left": "10px",
    "top": "150px",
    "width": "165px"
   },
   "toc_section_display": true,
   "toc_window_display": true
  }
 },
 "nbformat": 4,
 "nbformat_minor": 2
}
